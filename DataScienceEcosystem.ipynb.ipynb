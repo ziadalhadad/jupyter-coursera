{
  "metadata": {
    "kernelspec": {
      "name": "python",
      "display_name": "Python (Pyodide)",
      "language": "python"
    },
    "language_info": {
      "codemirror_mode": {
        "name": "python",
        "version": 3
      },
      "file_extension": ".py",
      "mimetype": "text/x-python",
      "name": "python",
      "nbconvert_exporter": "python",
      "pygments_lexer": "ipython3",
      "version": "3.8"
    }
  },
  "nbformat_minor": 4,
  "nbformat": 4,
  "cells": [
    {
      "cell_type": "markdown",
      "source": "# Data Science Tools and Ecosystem",
      "metadata": {}
    },
    {
      "cell_type": "markdown",
      "source": "Data Science Tools and Ecosystem are summarized.",
      "metadata": {}
    },
    {
      "cell_type": "markdown",
      "source": "### Objectives",
      "metadata": {}
    },
    {
      "cell_type": "markdown",
      "source": "* list of some of the data science languges\n* list of pupular libraries in data science\n* list some of data science enviruments",
      "metadata": {}
    },
    {
      "cell_type": "markdown",
      "source": "Some of Data science languges are:",
      "metadata": {}
    },
    {
      "cell_type": "markdown",
      "source": "1. python\n2. java\n3. R\n4. Julia\n5. Scala",
      "metadata": {}
    },
    {
      "cell_type": "markdown",
      "source": "Some of the commonly used libararies used by data scince include",
      "metadata": {}
    },
    {
      "cell_type": "markdown",
      "source": "1. Numpy\n2. Pandas\n3. MatplotLip\n4. SciPy\n5. Seabom\n6. Pytorch",
      "metadata": {}
    },
    {
      "cell_type": "markdown",
      "source": "| Data Sccience tools |\n| ------------------ |\n| Viual studio code |\n| Rstudio |\n| Juptyer notbook |",
      "metadata": {}
    },
    {
      "cell_type": "markdown",
      "source": "### Below are few examples of evaluting arithmetic expresstions in python",
      "metadata": {}
    },
    {
      "cell_type": "code",
      "source": "# WE multipled 3 by 4 and then added 5 to 8\n(3*4)+5",
      "metadata": {
        "trusted": true
      },
      "outputs": [
        {
          "execution_count": 7,
          "output_type": "execute_result",
          "data": {
            "text/plain": "17"
          },
          "metadata": {}
        }
      ],
      "execution_count": 7
    },
    {
      "cell_type": "code",
      "source": "# this lines of code will comvert 200 min to hours bt diving by 60\nmins = 200 \nmins / 60",
      "metadata": {
        "trusted": true
      },
      "outputs": [
        {
          "execution_count": 8,
          "output_type": "execute_result",
          "data": {
            "text/plain": "3.3333333333333335"
          },
          "metadata": {}
        }
      ],
      "execution_count": 8
    },
    {
      "cell_type": "markdown",
      "source": "## Author ",
      "metadata": {}
    },
    {
      "cell_type": "markdown",
      "source": "zeyad alhadadi",
      "metadata": {}
    }
  ]
}